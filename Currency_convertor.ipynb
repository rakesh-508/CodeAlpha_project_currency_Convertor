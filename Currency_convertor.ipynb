{
 "cells": [
  {
   "cell_type": "code",
   "execution_count": 1,
   "id": "68a29e03",
   "metadata": {},
   "outputs": [
    {
     "name": "stdout",
     "output_type": "stream",
     "text": [
      "Defaulting to user installation because normal site-packages is not writeable\n",
      "Note: you may need to restart the kernel to use updated packages.\n"
     ]
    },
    {
     "name": "stderr",
     "output_type": "stream",
     "text": [
      "ERROR: Could not find a version that satisfies the requirement tkinter (from versions: none)\n",
      "ERROR: No matching distribution found for tkinter\n"
     ]
    }
   ],
   "source": [
    "pip install tkinter"
   ]
  },
  {
   "cell_type": "code",
   "execution_count": 2,
   "id": "ebbaed2d",
   "metadata": {},
   "outputs": [
    {
     "name": "stdout",
     "output_type": "stream",
     "text": [
      "Defaulting to user installation because normal site-packages is not writeable\n",
      "Requirement already satisfied: forex_python in c:\\users\\rakes\\appdata\\roaming\\python\\python311\\site-packages (1.8)\n",
      "Requirement already satisfied: requests in c:\\programdata\\anaconda3\\lib\\site-packages (from forex_python) (2.29.0)\n",
      "Requirement already satisfied: simplejson in c:\\users\\rakes\\appdata\\roaming\\python\\python311\\site-packages (from forex_python) (3.19.1)\n",
      "Requirement already satisfied: charset-normalizer<4,>=2 in c:\\programdata\\anaconda3\\lib\\site-packages (from requests->forex_python) (2.0.4)\n",
      "Requirement already satisfied: idna<4,>=2.5 in c:\\programdata\\anaconda3\\lib\\site-packages (from requests->forex_python) (2.10)\n",
      "Requirement already satisfied: urllib3<1.27,>=1.21.1 in c:\\programdata\\anaconda3\\lib\\site-packages (from requests->forex_python) (1.26.16)\n",
      "Requirement already satisfied: certifi>=2017.4.17 in c:\\programdata\\anaconda3\\lib\\site-packages (from requests->forex_python) (2023.5.7)\n",
      "Note: you may need to restart the kernel to use updated packages.\n"
     ]
    }
   ],
   "source": [
    "pip install forex_python"
   ]
  },
  {
   "cell_type": "code",
   "execution_count": null,
   "id": "da407ff9",
   "metadata": {},
   "outputs": [],
   "source": [
    "#pip install tkinter\n",
    "import tkinter as tk\n",
    "from tkinter import *\n",
    "import tkinter.messagebox\n",
    "#GUI\n",
    "root = tk.Tk()\n",
    "\n",
    "root.title(\"Currency converter\")\n",
    "\n",
    "Tops = Frame(root, bg = '#e6e5e5', pady=2, width=1850, height=100, relief=\"ridge\")\n",
    "Tops.grid(row=0, column=0)\n",
    "\n",
    "headlabel = tk.Label(Tops, font=('lato black', 19, 'bold'), text='Currency converter',\n",
    "\t\t\t\t\tbg='#e6e5e5', fg='black')\n",
    "headlabel.grid(row=1, column=0, sticky=W)\n",
    "\n",
    "variable1 = tk.StringVar(root)\n",
    "variable2 = tk.StringVar(root)\n",
    "\n",
    "variable1.set(\"currency\")\n",
    "variable2.set(\"currency\")\n",
    "#Function To For Real Time Currency Conversion\n",
    "\n",
    "def RealTimeCurrencyConversion():\n",
    "\tfrom forex_python.converter import CurrencyRates\n",
    "\tc = CurrencyRates()\n",
    "\n",
    "\tfrom_currency = variable1.get()\n",
    "\tto_currency = variable2.get()\n",
    "\n",
    "\tif (Amount1_field.get() == \"\"):\n",
    "\t\ttkinter.messagebox.showinfo(\"Error !!\", \"Amount Not Entered.\\n Please a valid amount.\")\n",
    "\n",
    "\telif (from_currency == \"currency\" or to_currency == \"currency\"):\n",
    "\t\ttkinter.messagebox.showinfo(\"Error !!\",\n",
    "\t\t\t\t\t\t\t\t\t\"Currency Not Selected.\\n Please select FROM and TO Currency form menu.\")\n",
    "\n",
    "\telse:\n",
    "\t\tnew_amt = c.convert(from_currency, to_currency, float(Amount1_field.get()))\n",
    "\t\tnew_amount = float(\"{:.4f}\".format(new_amt))\n",
    "\t\tAmount2_field.insert(0, str(new_amount))\n",
    "\n",
    "#clearing all the data entered by the user\n",
    "def clear_all():\n",
    "\tAmount1_field.delete(0, tk.END)\n",
    "\tAmount2_field.delete(0, tk.END)\n",
    "\n",
    "\n",
    "CurrenyCode_list = [\"INR\", \"USD\", \"CAD\", \"CNY\", \"DKK\", \"EUR\"]\n",
    "\n",
    "root.configure(background='#e6e5e5')\n",
    "root.geometry(\"700x400\")\n",
    "\n",
    "Label_1 = Label(root, font=('lato black', 27, 'bold'), text=\"\", padx=2, pady=2, bg=\"#e6e5e5\", fg=\"black\")\n",
    "Label_1.grid(row=1, column=0, sticky=W)\n",
    "\n",
    "label1 = tk.Label(root, font=('lato black', 15, 'bold'), text=\"\\t Amount : \", bg=\"#e6e5e5\", fg=\"black\")\n",
    "label1.grid(row=2, column=0, sticky=W)\n",
    "\n",
    "label1 = tk.Label(root, font=('lato black', 15, 'bold'), text=\"\\t From Currency : \", bg=\"#e6e5e5\", fg=\"black\")\n",
    "label1.grid(row=3, column=0, sticky=W)\n",
    "\n",
    "label1 = tk.Label(root, font=('lato black', 15, 'bold'), text=\"\\t To Currency : \", bg=\"#e6e5e5\", fg=\"black\")\n",
    "label1.grid(row=4, column=0, sticky=W)\n",
    "\n",
    "label1 = tk.Label(root, font=('lato black', 15, 'bold'), text=\"\\t Converted Amount : \", bg=\"#e6e5e5\", fg=\"black\")\n",
    "label1.grid(row=8, column=0, sticky=W)\n",
    "\n",
    "Label_1 = Label(root, font=('lato black', 7, 'bold'), text=\"\", padx=2, pady=2, bg=\"#e6e5e5\", fg=\"black\")\n",
    "Label_1.grid(row=5, column=0, sticky=W)\n",
    "\n",
    "Label_1 = Label(root, font=('lato black', 7, 'bold'), text=\"\", padx=2, pady=2, bg=\"#e6e5e5\", fg=\"black\")\n",
    "Label_1.grid(row=7, column=0, sticky=W)\n",
    "\n",
    "FromCurrency_option = tk.OptionMenu(root, variable1, *CurrenyCode_list)\n",
    "ToCurrency_option = tk.OptionMenu(root, variable2, *CurrenyCode_list)\n",
    "\n",
    "FromCurrency_option.grid(row=3, column=1, ipadx=45, sticky=E)\n",
    "ToCurrency_option.grid(row=4, column=1, ipadx=45, sticky=E)\n",
    "\n",
    "Amount1_field = tk.Entry(root)\n",
    "Amount1_field.grid(row=2, column=1, ipadx=28, sticky=E)\n",
    "\n",
    "Amount2_field = tk.Entry(root)\n",
    "Amount2_field.grid(row=8, column=1, ipadx=31, sticky=E)\n",
    "\n",
    "Label_9 = Button(root, font=('arial', 15, 'bold'), text=\" Convert \", padx=2, pady=2, bg=\"lightblue\", fg=\"white\",\n",
    "\t\t\t\tcommand=RealTimeCurrencyConversion)\n",
    "Label_9.grid(row=6, column=0)\n",
    "\n",
    "Label_1 = Label(root, font=('lato black', 7, 'bold'), text=\"\", padx=2, pady=2, bg=\"#e6e5e5\", fg=\"black\")\n",
    "Label_1.grid(row=9, column=1, sticky=W)\n",
    "\n",
    "Label_9 = Button(root, font=('arial', 15, 'bold'), text=\" Clear All \", padx=2, pady=2, bg=\"lightblue\", fg=\"white\",\n",
    "\t\t\t\tcommand=clear_all)\n",
    "Label_9.grid(row=10, column=0)\n",
    "\n",
    "\n",
    "root.mainloop()\n"
   ]
  },
  {
   "cell_type": "code",
   "execution_count": null,
   "id": "ec2c656b",
   "metadata": {},
   "outputs": [],
   "source": []
  },
  {
   "cell_type": "code",
   "execution_count": null,
   "id": "d3cc6b43",
   "metadata": {},
   "outputs": [],
   "source": []
  }
 ],
 "metadata": {
  "kernelspec": {
   "display_name": "Python 3 (ipykernel)",
   "language": "python",
   "name": "python3"
  },
  "language_info": {
   "codemirror_mode": {
    "name": "ipython",
    "version": 3
   },
   "file_extension": ".py",
   "mimetype": "text/x-python",
   "name": "python",
   "nbconvert_exporter": "python",
   "pygments_lexer": "ipython3",
   "version": "3.11.3"
  }
 },
 "nbformat": 4,
 "nbformat_minor": 5
}
